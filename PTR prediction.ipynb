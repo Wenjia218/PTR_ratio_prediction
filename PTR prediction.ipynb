{
 "cells": [
  {
   "cell_type": "code",
   "execution_count": 41,
   "id": "d81178b0",
   "metadata": {},
   "outputs": [],
   "source": [
    "import pandas as pd\n",
    "from sklearn.linear_model import LinearRegression\n"
   ]
  },
  {
   "cell_type": "code",
   "execution_count": 42,
   "id": "70b20cf4",
   "metadata": {},
   "outputs": [
    {
     "name": "stdout",
     "output_type": "stream",
     "text": [
      "(11575, 473)\n",
      "   Codon_AAA  Codon_AAC  Codon_AAG  Codon_AAU  Codon_ACA  Codon_ACC  \\\n",
      "0    -7.1111    -5.7892    -5.9412    -7.5262    -6.5262    -5.1111   \n",
      "1    -4.6483    -6.3487    -5.6483    -5.1788    -6.0268    -5.1008   \n",
      "2    -5.4519    -5.6270    -4.7998    -5.4519    -5.3717    -5.5812   \n",
      "3    -5.7043    -5.6080    -4.8898    -5.6080    -5.8618    -5.4330   \n",
      "4    -6.6830    -4.9826    -5.2236    -7.6830    -7.0980    -5.3611   \n",
      "\n",
      "   Codon_ACG  Codon_ACU  Codon_AGA  Codon_AGC  ...  RBP_YWHAG  RBP_ZNF622  \\\n",
      "0    -5.9412    -7.1111    -9.1111    -5.1111  ...          0           0   \n",
      "1    -8.3487    -6.0268    -5.6483    -6.7638  ...          0           0   \n",
      "2    -7.5812    -5.7738    -7.5812    -5.9962  ...          0           0   \n",
      "3    -7.2403    -5.4748    -7.2403    -5.9184  ...          0           0   \n",
      "4    -5.6830    -6.6830    -7.6830    -6.3611  ...          0           0   \n",
      "\n",
      "   RBP_ZRANB2  ProteinComplex  RNAm6A  numOfPhospSites  numOfUbiSites  \\\n",
      "0           0               0       0           0.0000            0.0   \n",
      "1           0               0       0           3.7004            0.0   \n",
      "2           0               1       0           3.9069            0.0   \n",
      "3           0               0       0           2.8074            0.0   \n",
      "4           0               0       0           3.0000            0.0   \n",
      "\n",
      "   numOfAceSites  numOfSumoSites  numOfMethySites  \n",
      "0         0.0000             0.0              0.0  \n",
      "1         0.0000             0.0              0.0  \n",
      "2         2.5850             0.0              0.0  \n",
      "3         2.3219             0.0              0.0  \n",
      "4         0.0000             0.0              1.0  \n",
      "\n",
      "[5 rows x 473 columns]\n"
     ]
    }
   ],
   "source": [
    "features = pd.read_csv('data/Table_EV6/Table_EV6.tsv', sep='\\t')\n",
    "features = features.iloc[:, 4:]\n",
    "print(features.shape)  \n",
    "print(features.head())  "
   ]
  },
  {
   "cell_type": "code",
   "execution_count": 49,
   "id": "04df4e47",
   "metadata": {},
   "outputs": [
    {
     "name": "stdout",
     "output_type": "stream",
     "text": [
      "(11575, 29)\n",
      "  Adrenal_PTR Appendices_PTR Brain_PTR Colon_PTR Duodenum_PTR Endometrium_PTR  \\\n",
      "0          NA          8.277        NA        NA           NA              NA   \n",
      "1          NA             NA        NA     5.135        5.371              NA   \n",
      "2       6.290          6.328     5.948     5.811        6.068           5.383   \n",
      "3          NA             NA     3.995        NA           NA              NA   \n",
      "4       3.843          4.601        NA        NA           NA              NA   \n",
      "\n",
      "  Esophagus_PTR Fallopiantube_PTR Fat_PTR Gallbladder_PTR  ... Rectum_PTR  \\\n",
      "0            NA             7.841      NA              NA  ...         NA   \n",
      "1            NA                NA      NA           5.425  ...      5.147   \n",
      "2         5.881             6.119   6.410           5.828  ...      6.081   \n",
      "3         4.129                NA      NA              NA  ...         NA   \n",
      "4         4.013             3.683      NA              NA  ...      4.731   \n",
      "\n",
      "  Salivarygland_PTR Smallintestine_PTR Smoothmuscle_PTR Spleen_PTR  \\\n",
      "0             7.718                 NA               NA      7.313   \n",
      "1                NA              5.202               NA         NA   \n",
      "2             5.726              5.699            4.997      5.136   \n",
      "3                NA                 NA               NA         NA   \n",
      "4             4.508                 NA               NA         NA   \n",
      "\n",
      "  Stomach_PTR Testis_PTR Thyroid_PTR Tonsil_PTR Urinarybladder_PTR  \n",
      "0          NA         NA          NA         NA                 NA  \n",
      "1      5.8143         NA          NA         NA                 NA  \n",
      "2      6.5349      5.820       6.060      5.675             5.8286  \n",
      "3          NA      2.350          NA      5.249                 NA  \n",
      "4      4.0613      4.832          NA         NA             4.2430  \n",
      "\n",
      "[5 rows x 29 columns]\n"
     ]
    }
   ],
   "source": [
    "ptr = pd.read_csv('data/Table_EV3/Table_EV3.tsv', sep='\\t')\n",
    "\n",
    "ptr = ptr[[col for col in ptr.columns if \"PTR\" in col]]\n",
    "\n",
    "print(ptr.shape)\n",
    "print(ptr.head()) "
   ]
  },
  {
   "cell_type": "code",
   "execution_count": 46,
   "id": "e0ea8c19",
   "metadata": {},
   "outputs": [
    {
     "ename": "ValueError",
     "evalue": "could not convert string to float: '   NA'",
     "output_type": "error",
     "traceback": [
      "\u001b[31m---------------------------------------------------------------------------\u001b[39m",
      "\u001b[31mValueError\u001b[39m                                Traceback (most recent call last)",
      "\u001b[36mCell\u001b[39m\u001b[36m \u001b[39m\u001b[32mIn[46]\u001b[39m\u001b[32m, line 9\u001b[39m\n\u001b[32m      7\u001b[39m y = ptr.loc[mask, col]\n\u001b[32m      8\u001b[39m model = LinearRegression()\n\u001b[32m----> \u001b[39m\u001b[32m9\u001b[39m model.fit(X, y)\n\u001b[32m     10\u001b[39m B.append(model.coef_)\n\u001b[32m     11\u001b[39m b0.append(model.intercept_)\n",
      "\u001b[36mFile \u001b[39m\u001b[32mc:\\Users\\janni\\anaconda3\\envs\\ML4RG\\Lib\\site-packages\\sklearn\\base.py:1363\u001b[39m, in \u001b[36m_fit_context.<locals>.decorator.<locals>.wrapper\u001b[39m\u001b[34m(estimator, *args, **kwargs)\u001b[39m\n\u001b[32m   1356\u001b[39m     estimator._validate_params()\n\u001b[32m   1358\u001b[39m \u001b[38;5;28;01mwith\u001b[39;00m config_context(\n\u001b[32m   1359\u001b[39m     skip_parameter_validation=(\n\u001b[32m   1360\u001b[39m         prefer_skip_nested_validation \u001b[38;5;129;01mor\u001b[39;00m global_skip_validation\n\u001b[32m   1361\u001b[39m     )\n\u001b[32m   1362\u001b[39m ):\n\u001b[32m-> \u001b[39m\u001b[32m1363\u001b[39m     \u001b[38;5;28;01mreturn\u001b[39;00m fit_method(estimator, *args, **kwargs)\n",
      "\u001b[36mFile \u001b[39m\u001b[32mc:\\Users\\janni\\anaconda3\\envs\\ML4RG\\Lib\\site-packages\\sklearn\\linear_model\\_base.py:618\u001b[39m, in \u001b[36mLinearRegression.fit\u001b[39m\u001b[34m(self, X, y, sample_weight)\u001b[39m\n\u001b[32m    614\u001b[39m n_jobs_ = \u001b[38;5;28mself\u001b[39m.n_jobs\n\u001b[32m    616\u001b[39m accept_sparse = \u001b[38;5;28;01mFalse\u001b[39;00m \u001b[38;5;28;01mif\u001b[39;00m \u001b[38;5;28mself\u001b[39m.positive \u001b[38;5;28;01melse\u001b[39;00m [\u001b[33m\"\u001b[39m\u001b[33mcsr\u001b[39m\u001b[33m\"\u001b[39m, \u001b[33m\"\u001b[39m\u001b[33mcsc\u001b[39m\u001b[33m\"\u001b[39m, \u001b[33m\"\u001b[39m\u001b[33mcoo\u001b[39m\u001b[33m\"\u001b[39m]\n\u001b[32m--> \u001b[39m\u001b[32m618\u001b[39m X, y = validate_data(\n\u001b[32m    619\u001b[39m     \u001b[38;5;28mself\u001b[39m,\n\u001b[32m    620\u001b[39m     X,\n\u001b[32m    621\u001b[39m     y,\n\u001b[32m    622\u001b[39m     accept_sparse=accept_sparse,\n\u001b[32m    623\u001b[39m     y_numeric=\u001b[38;5;28;01mTrue\u001b[39;00m,\n\u001b[32m    624\u001b[39m     multi_output=\u001b[38;5;28;01mTrue\u001b[39;00m,\n\u001b[32m    625\u001b[39m     force_writeable=\u001b[38;5;28;01mTrue\u001b[39;00m,\n\u001b[32m    626\u001b[39m )\n\u001b[32m    628\u001b[39m has_sw = sample_weight \u001b[38;5;129;01mis\u001b[39;00m \u001b[38;5;129;01mnot\u001b[39;00m \u001b[38;5;28;01mNone\u001b[39;00m\n\u001b[32m    629\u001b[39m \u001b[38;5;28;01mif\u001b[39;00m has_sw:\n",
      "\u001b[36mFile \u001b[39m\u001b[32mc:\\Users\\janni\\anaconda3\\envs\\ML4RG\\Lib\\site-packages\\sklearn\\utils\\validation.py:2971\u001b[39m, in \u001b[36mvalidate_data\u001b[39m\u001b[34m(_estimator, X, y, reset, validate_separately, skip_check_array, **check_params)\u001b[39m\n\u001b[32m   2969\u001b[39m         y = check_array(y, input_name=\u001b[33m\"\u001b[39m\u001b[33my\u001b[39m\u001b[33m\"\u001b[39m, **check_y_params)\n\u001b[32m   2970\u001b[39m     \u001b[38;5;28;01melse\u001b[39;00m:\n\u001b[32m-> \u001b[39m\u001b[32m2971\u001b[39m         X, y = check_X_y(X, y, **check_params)\n\u001b[32m   2972\u001b[39m     out = X, y\n\u001b[32m   2974\u001b[39m \u001b[38;5;28;01mif\u001b[39;00m \u001b[38;5;129;01mnot\u001b[39;00m no_val_X \u001b[38;5;129;01mand\u001b[39;00m check_params.get(\u001b[33m\"\u001b[39m\u001b[33mensure_2d\u001b[39m\u001b[33m\"\u001b[39m, \u001b[38;5;28;01mTrue\u001b[39;00m):\n",
      "\u001b[36mFile \u001b[39m\u001b[32mc:\\Users\\janni\\anaconda3\\envs\\ML4RG\\Lib\\site-packages\\sklearn\\utils\\validation.py:1385\u001b[39m, in \u001b[36mcheck_X_y\u001b[39m\u001b[34m(X, y, accept_sparse, accept_large_sparse, dtype, order, copy, force_writeable, force_all_finite, ensure_all_finite, ensure_2d, allow_nd, multi_output, ensure_min_samples, ensure_min_features, y_numeric, estimator)\u001b[39m\n\u001b[32m   1366\u001b[39m ensure_all_finite = _deprecate_force_all_finite(force_all_finite, ensure_all_finite)\n\u001b[32m   1368\u001b[39m X = check_array(\n\u001b[32m   1369\u001b[39m     X,\n\u001b[32m   1370\u001b[39m     accept_sparse=accept_sparse,\n\u001b[32m   (...)\u001b[39m\u001b[32m   1382\u001b[39m     input_name=\u001b[33m\"\u001b[39m\u001b[33mX\u001b[39m\u001b[33m\"\u001b[39m,\n\u001b[32m   1383\u001b[39m )\n\u001b[32m-> \u001b[39m\u001b[32m1385\u001b[39m y = _check_y(y, multi_output=multi_output, y_numeric=y_numeric, estimator=estimator)\n\u001b[32m   1387\u001b[39m check_consistent_length(X, y)\n\u001b[32m   1389\u001b[39m \u001b[38;5;28;01mreturn\u001b[39;00m X, y\n",
      "\u001b[36mFile \u001b[39m\u001b[32mc:\\Users\\janni\\anaconda3\\envs\\ML4RG\\Lib\\site-packages\\sklearn\\utils\\validation.py:1410\u001b[39m, in \u001b[36m_check_y\u001b[39m\u001b[34m(y, multi_output, y_numeric, estimator)\u001b[39m\n\u001b[32m   1408\u001b[39m     _ensure_no_complex_data(y)\n\u001b[32m   1409\u001b[39m \u001b[38;5;28;01mif\u001b[39;00m y_numeric \u001b[38;5;129;01mand\u001b[39;00m \u001b[38;5;28mhasattr\u001b[39m(y.dtype, \u001b[33m\"\u001b[39m\u001b[33mkind\u001b[39m\u001b[33m\"\u001b[39m) \u001b[38;5;129;01mand\u001b[39;00m y.dtype.kind == \u001b[33m\"\u001b[39m\u001b[33mO\u001b[39m\u001b[33m\"\u001b[39m:\n\u001b[32m-> \u001b[39m\u001b[32m1410\u001b[39m     y = y.astype(np.float64)\n\u001b[32m   1412\u001b[39m \u001b[38;5;28;01mreturn\u001b[39;00m y\n",
      "\u001b[31mValueError\u001b[39m: could not convert string to float: '   NA'"
     ]
    }
   ],
   "source": [
    "B = []\n",
    "b0 = []\n",
    "\n",
    "for col in ptr.columns:\n",
    "    mask = features.notna().all(axis=1) & ptr[col].notna()\n",
    "    X = features[mask]\n",
    "    y = ptr.loc[mask, col]\n",
    "    model = LinearRegression()\n",
    "    model.fit(X, y)\n",
    "    B.append(model.coef_)\n",
    "    b0.append(model.intercept_)\n",
    "\n",
    "B = np.array(B)   # shape: (n_targets, n_features)\n",
    "b0 = np.array(b0) # shape: (n_targets,)\n",
    "print(\"B matrix shape:\", B.shape)\n",
    "print(\"Intercept (b0) shape:\", b0.shape)"
   ]
  }
 ],
 "metadata": {
  "kernelspec": {
   "display_name": "ML4RG",
   "language": "python",
   "name": "python3"
  },
  "language_info": {
   "codemirror_mode": {
    "name": "ipython",
    "version": 3
   },
   "file_extension": ".py",
   "mimetype": "text/x-python",
   "name": "python",
   "nbconvert_exporter": "python",
   "pygments_lexer": "ipython3",
   "version": "3.11.11"
  }
 },
 "nbformat": 4,
 "nbformat_minor": 5
}
